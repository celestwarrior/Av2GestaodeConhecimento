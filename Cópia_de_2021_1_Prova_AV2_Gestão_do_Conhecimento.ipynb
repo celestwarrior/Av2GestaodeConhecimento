{
  "nbformat": 4,
  "nbformat_minor": 0,
  "metadata": {
    "kernelspec": {
      "display_name": "Python 3",
      "language": "python",
      "name": "python3"
    },
    "language_info": {
      "codemirror_mode": {
        "name": "ipython",
        "version": 3
      },
      "file_extension": ".py",
      "mimetype": "text/x-python",
      "name": "python",
      "nbconvert_exporter": "python",
      "pygments_lexer": "ipython3",
      "version": "3.7.2"
    },
    "colab": {
      "name": "Cópia de 2021_1_Prova_AV2_Gestão_do_Conhecimento.ipynb",
      "provenance": [],
      "collapsed_sections": []
    }
  },
  "cells": [
    {
      "cell_type": "markdown",
      "metadata": {
        "id": "8e6IcCsJCxVz"
      },
      "source": [
        "DISCIPLINA: Gestão do Conhecimento\t PROFESSOR(A): Alex Salgado\n",
        "PERÍODO: 7o. TURNO: noite AVALIAÇÃO:\n",
        "\n",
        "ALUNO(A): _\n",
        "\n",
        "GRAU: VISTO DO PROFESSOR:\n"
      ]
    },
    {
      "cell_type": "markdown",
      "metadata": {
        "id": "_3h1pahVCxV2"
      },
      "source": [
        "# Questão 1 - valor (0,0)\n"
      ]
    },
    {
      "cell_type": "markdown",
      "metadata": {
        "id": "A-cj5d2rCxV3"
      },
      "source": [
        "*** Crie um repositório no Github e adicione este arquivo no mesmo\n",
        "\n",
        "\n",
        "1.1 - Você deve escolher uma base de dados do Kaggle.\n",
        "\n",
        "A natureza desse dataset deve se encaixar em um problema que podemos resolver utilizando modelos de previsão de machine learning supervisionado de classificação. \n",
        "\n",
        "A partir desta base de dados do Kaggle, você vai treinar o modelo, fazer previsões e calcular a acurácia do mesmo, usando modelos e algoritmos que desejar.\n",
        "\n",
        "Obs1: Usar o Kaggle como fonte para o seu dataset obrigatoriamente.\n",
        "Obs2: Implementações idênticas ou bem parecidas pode levar a anulação da NOTA ou seja, ZERO!! Faça o melhor com sua equipe apenas.\n"
      ]
    },
    {
      "cell_type": "markdown",
      "metadata": {
        "id": "3P5uSWxsDb5r"
      },
      "source": [
        "1.1 - Coloque aqui o link para o seu dataset escolhido no Kaggle.\n",
        "\n"
      ]
    },
    {
      "cell_type": "code",
      "metadata": {
        "id": "E5KjBhtQ0tT5"
      },
      "source": [
        "https://www.kaggle.com/adityakadiwal/water-potability"
      ],
      "execution_count": null,
      "outputs": []
    },
    {
      "cell_type": "markdown",
      "metadata": {
        "id": "9ZAK23bp0uiv"
      },
      "source": [
        "1.1.1 - Descreva sobre o que é base de dados."
      ]
    },
    {
      "cell_type": "code",
      "metadata": {
        "id": "GJXzGjne0xc3"
      },
      "source": [
        "Consiste nos elemntos contidos dentro de águas potáveis e sua potabilidade. "
      ],
      "execution_count": null,
      "outputs": []
    },
    {
      "cell_type": "markdown",
      "metadata": {
        "id": "PikuHGzs0xrS"
      },
      "source": [
        "1.1.2 - Se você fez em grupo, quais os nomes dos componentes do seu grupo?"
      ]
    },
    {
      "cell_type": "code",
      "metadata": {
        "id": "CWD182zJCxV4"
      },
      "source": [
        "Nickolas Cecchetti\n",
        "Gustavo Ramos\n",
        "Lucas Camacho"
      ],
      "execution_count": null,
      "outputs": []
    },
    {
      "cell_type": "markdown",
      "metadata": {
        "id": "a-D7KRIzCxV8"
      },
      "source": [
        "1.2 - Após tratada, criar uma pasta no seu GoogleDrive e disponibilizar o link do arquivo de sua base (csv, xlsx, etc) para ser importado no seu código."
      ]
    },
    {
      "cell_type": "code",
      "metadata": {
        "id": "lT8fVn5TCxV8"
      },
      "source": [
        "https://drive.google.com/drive/folders/1A203gg9_0p6HwW_OjEAVe1Q9Yd7GZR4D?usp=sharing"
      ],
      "execution_count": null,
      "outputs": []
    },
    {
      "cell_type": "markdown",
      "metadata": {
        "id": "lvPXgDBDCxV_"
      },
      "source": [
        "## Criar um código usando o Jupyter Notebook e responder (através de código) às seguintes questões:\n"
      ]
    },
    {
      "cell_type": "markdown",
      "metadata": {
        "id": "LMkAEsOKCxWA"
      },
      "source": [
        "# Questão 2 - valor (0,5)"
      ]
    },
    {
      "cell_type": "markdown",
      "metadata": {
        "id": "yOSNQel0CxWA"
      },
      "source": [
        "2.1 - Importar os modulos python para machine learn e carregar o arquivo \n",
        "\n",
        "** Sugestão se for do tipo xlsx, usar o read_excel do pandas\n",
        "import pandas as pd\n",
        "dt = pd.read_excel(\"meuarquivo.xlsx\")\n"
      ]
    },
    {
      "cell_type": "code",
      "metadata": {
        "id": "zA6l-qg9CxWB"
      },
      "source": [
        "import numpy as np\n",
        "\n",
        "import pandas as pd\n",
        "\n",
        "from google.colab import files\n",
        "uploaded = files.upload()\n",
        "\n",
        "import io\n",
        "df2 = pd.read_csv(io.BytesIO(uploaded['water_potability_tratado.csv']))\n",
        "# Dataset is now stored in a Pandas Dataframe"
      ],
      "execution_count": null,
      "outputs": []
    },
    {
      "cell_type": "markdown",
      "metadata": {
        "id": "_NIYxnZnCxWD"
      },
      "source": [
        "2.2 - Exibir os primeiros registros desta tabela.\n"
      ]
    },
    {
      "cell_type": "code",
      "metadata": {
        "id": "owd5CVN9CxWE"
      },
      "source": [
        "print(dataset)\n",
        "dataset.head()"
      ],
      "execution_count": null,
      "outputs": []
    },
    {
      "cell_type": "markdown",
      "metadata": {
        "id": "ROM2Hy1CCxWG"
      },
      "source": [
        "2.3 - De que se trata esse banco de dados? e que tipo de previsão pode ser feito com ele?\n"
      ]
    },
    {
      "cell_type": "code",
      "metadata": {
        "id": "Xh68K5SjCxWH"
      },
      "source": [
        "O banco de dados se trata da qualidade da água (potabilidade) considerando elementos como ph, densidade, turbidez etc. Com isso, é possível ser previsto se a água em questão pode ser potável ou não."
      ],
      "execution_count": null,
      "outputs": []
    },
    {
      "cell_type": "markdown",
      "metadata": {
        "id": "1lCf85KKCxWJ"
      },
      "source": [
        "# Questão 3 - valor (1,5)\n"
      ]
    },
    {
      "cell_type": "markdown",
      "metadata": {
        "id": "isyZsq2NCxWK"
      },
      "source": [
        "Utilizando as terminologias de Machine Learning(features e observações):\n",
        "\n"
      ]
    },
    {
      "cell_type": "markdown",
      "metadata": {
        "id": "pbuaWyeECxWL"
      },
      "source": [
        "3.1 - Quantas \"features\" têm nessa base de dados?"
      ]
    },
    {
      "cell_type": "code",
      "metadata": {
        "id": "MY5Xwd0gCxWL"
      },
      "source": [
        " 9"
      ],
      "execution_count": null,
      "outputs": []
    },
    {
      "cell_type": "markdown",
      "metadata": {
        "id": "RtwxkASmCxWN"
      },
      "source": [
        "3.2 - Quantas observações têm nessa base de dados?\n"
      ]
    },
    {
      "cell_type": "code",
      "metadata": {
        "id": "yN1QNvh-CxWO"
      },
      "source": [
        "3276"
      ],
      "execution_count": null,
      "outputs": []
    },
    {
      "cell_type": "markdown",
      "metadata": {
        "id": "tcAYZJP8zlX3"
      },
      "source": [
        "3.3 - Separe o que é entrada (features) do seu dataset na variável X, e exiba."
      ]
    },
    {
      "cell_type": "code",
      "metadata": {
        "id": "sntqiY6UzuaT"
      },
      "source": [
        "dataset.pop('Potability')\n",
        "\n",
        "X = dataset.dropna()\n",
        "\n",
        "dataset = pd.read_csv(\"water_potability_tratado.csv\")"
      ],
      "execution_count": null,
      "outputs": []
    },
    {
      "cell_type": "markdown",
      "metadata": {
        "id": "FkA2G20zzvHX"
      },
      "source": [
        "3.4 - Separe o que é saída (target/resposta) do seu dataset na variável y, e exiba."
      ]
    },
    {
      "cell_type": "code",
      "metadata": {
        "id": "scWmkISnzj3i"
      },
      "source": [
        "Y = dataset.Potability\n",
        "\n",
        "Y"
      ],
      "execution_count": null,
      "outputs": []
    },
    {
      "cell_type": "markdown",
      "metadata": {
        "id": "AudYWfr1CxWQ"
      },
      "source": [
        "# Questão 4 - valor (1,5)\n"
      ]
    },
    {
      "cell_type": "markdown",
      "metadata": {
        "id": "pJxRMc1HCxWR"
      },
      "source": [
        "4.1 - Utilizando a sua base, faça um treinamento e uma previsão, usando o algoritmo de clsssificação de sua escolha.\n"
      ]
    },
    {
      "cell_type": "code",
      "metadata": {
        "id": "Tu7ZKtSkCxWS"
      },
      "source": [
        "from sklearn.neighbors import KNeighborsClassifier\n",
        "\n",
        "knn = KNeighborsClassifier(n_neighbors=1)\n",
        "\n",
        "knn.fit(X, Y)\n",
        "\n",
        "X_new = [[7, 195, 17404, 6, 0, 592, 15, 56, 4], [3, 129, 18630, 6, 0, 592, 15, 56, 4]]\n",
        "knn.predict(X_new)\n",
        "\n",
        "array([1, 0])\n",
        "\n",
        "#dois valores aproximados de qualidade de água, o primeiro indica 1, é o mais próximo de status de qualidade de água potável. O segundo indica 0, água não potável."
      ],
      "execution_count": null,
      "outputs": []
    },
    {
      "cell_type": "markdown",
      "metadata": {
        "id": "xbpLvAhTCxWU"
      },
      "source": [
        "# Questão 5 - valor (1,5)\n",
        "\n",
        "\n",
        "\n"
      ]
    },
    {
      "cell_type": "code",
      "metadata": {
        "id": "0r7i8IsFxoQp"
      },
      "source": [
        ""
      ],
      "execution_count": null,
      "outputs": []
    },
    {
      "cell_type": "markdown",
      "metadata": {
        "id": "cp4fWsL7CxWU"
      },
      "source": [
        "Usando o método de avaliação de acurácia (Train test split), Escolha outros 2 algoritmos de classificação e calcule a acurácia dos mesmos."
      ]
    },
    {
      "cell_type": "markdown",
      "metadata": {
        "id": "mNmy44xfCxWY"
      },
      "source": [
        "5.2 - Acurácia usando o algoritmo 1 ?\n"
      ]
    },
    {
      "cell_type": "code",
      "metadata": {
        "id": "caGkCtYGCxWY"
      },
      "source": [
        "# import the class\n",
        "from sklearn.linear_model import LogisticRegression\n",
        "\n",
        "# instantiate the model\n",
        "logreg = LogisticRegression(solver='liblinear')\n",
        "\n",
        "# fit the model with data\n",
        "logreg.fit(X, Y)\n",
        "\n",
        "# predict the response values for the observations in X\n",
        "logreg.predict(X)\n",
        "\n",
        "Y_pred = logreg.predict(X)\n",
        "\n",
        "# check how many predictions were generated\n",
        "len(Y_pred)\n",
        "\n",
        "from sklearn import metrics\n",
        "print(metrics.accuracy_score(Y, Y_pred))\n",
        "# com resultado 1.0\n",
        "\n",
        "from sklearn.neighbors import KNeighborsClassifier\n",
        "knn = KNeighborsClassifier(n_neighbors=5)\n",
        "knn.fit(X, Y)\n",
        "Y_pred = knn.predict(X)\n",
        "print(metrics.accuracy_score(Y, Y_pred))\n",
        "#com resultado 0.7136752136752137\n",
        "\n",
        "knn = KNeighborsClassifier(n_neighbors=1)\n",
        "knn.fit(X, Y)\n",
        "Y_pred = knn.predict(X)\n",
        "print(metrics.accuracy_score(Y, Y_pred))\n",
        "#o melhor resultado é o K = 1, com resultado 1.0"
      ],
      "execution_count": null,
      "outputs": []
    },
    {
      "cell_type": "markdown",
      "metadata": {
        "id": "3xUZm_JICxWa"
      },
      "source": [
        "5.3 - Acurácia usando o algoritmo 2 ?\n",
        "\n",
        "\n",
        "\n"
      ]
    },
    {
      "cell_type": "code",
      "metadata": {
        "id": "VvAgNcVsCxWb"
      },
      "source": [
        "rom sklearn.model_selection import train_test_split\n",
        "X_train, X_test, Y_train, Y_test = train_test_split(X, Y, test_size=0.4, random_state=4)\n",
        "\n",
        "print(X_train.shape)\n",
        "print(X_test.shape)\n",
        "\n",
        "print(Y_train.shape)\n",
        "print(Y_test.shape)\n",
        "\n",
        "logreg = LogisticRegression(solver='liblinear')\n",
        "logreg.fit(X_train, Y_train)\n",
        "#treinando o modelo\n",
        "\n",
        "Y_pred = logreg.predict(X_test)\n",
        "\n",
        "# compare actual response values (Y_test) with predicted response values (Y_pred)\n",
        "print(metrics.accuracy_score(Y_test, Y_pred))\n",
        "#com resultado 0.6178489702517163\n",
        "\n",
        "knn = KNeighborsClassifier(n_neighbors=5)\n",
        "knn.fit(X_train, Y_train)\n",
        "Y_pred = knn.predict(X_test)\n",
        "print(metrics.accuracy_score(Y_test, Y_pred))\n",
        "#com resultado 0.5423340961098398\n",
        "\n",
        "knn = KNeighborsClassifier(n_neighbors=1)\n",
        "knn.fit(X_train, Y_train)\n",
        "Y_pred = knn.predict(X_test)\n",
        "print(metrics.accuracy_score(Y_test, Y_pred))\n",
        "#com resultado 0.540045766590389\n",
        "\n",
        "k_range = list(range(1, 26))\n",
        "scores = []\n",
        "for k in k_range:\n",
        "    knn = KNeighborsClassifier(n_neighbors=k)\n",
        "    knn.fit(X_train, Y_train)\n",
        "    Y_pred = knn.predict(X_test)\n",
        "    scores.append(metrics.accuracy_score(Y_test, Y_pred))\n",
        "    #treinando com os valores de k=1 até k=25"
      ],
      "execution_count": null,
      "outputs": []
    },
    {
      "cell_type": "markdown",
      "metadata": {
        "id": "8FkyIUHbCxWd"
      },
      "source": [
        "5.4 - De acordo com seus resultados anteriores, qual dos 2 algoritmos é mais eficiente?\n"
      ]
    },
    {
      "cell_type": "code",
      "metadata": {
        "id": "K0AE8XQ1CxWd"
      },
      "source": [
        "O algoritmo 1 é mais eficiente."
      ],
      "execution_count": null,
      "outputs": []
    },
    {
      "cell_type": "markdown",
      "metadata": {
        "id": "QIAfJToiy77F"
      },
      "source": [
        "# Questão 6 - valor (1,5)\n",
        "\n"
      ]
    },
    {
      "cell_type": "markdown",
      "metadata": {
        "id": "Is2wXGy3ySgF"
      },
      "source": [
        "6 - Faça um visualização auto-explicativa da sua base de dados utilizando o matplotlib. Coloque o código e a visualização abaixo.\n"
      ]
    },
    {
      "cell_type": "code",
      "metadata": {
        "id": "DdlmwhZlyi_7"
      },
      "source": [
        "# import Matplotlib (scientific plotting library)\n",
        "import matplotlib.pyplot as plt\n",
        "\n",
        "# allow plots to appear within the notebook\n",
        "%matplotlib inline\n",
        "\n",
        "# plot the relationship between K and testing accuracy\n",
        "plt.plot(k_range, scores)\n",
        "plt.xlabel('Value of K for KNN')\n",
        "plt.ylabel('Testing Accuracy')\n",
        "\n"
      ],
      "execution_count": null,
      "outputs": []
    },
    {
      "cell_type": "code",
      "metadata": {
        "id": "zRDUIRloCxWf"
      },
      "source": [
        "*** Envie o link do seu Github com essa resposta no Classroom\n"
      ],
      "execution_count": null,
      "outputs": []
    }
  ]
}